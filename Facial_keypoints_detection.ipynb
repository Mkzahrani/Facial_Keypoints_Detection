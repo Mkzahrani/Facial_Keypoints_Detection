{
 "cells": [
  {
   "cell_type": "code",
   "execution_count": 1,
   "metadata": {},
   "outputs": [
    {
     "name": "stdout",
     "output_type": "stream",
     "text": [
      "GPU available: False\n"
     ]
    }
   ],
   "source": [
    "%matplotlib inline\n",
    "import numpy as np\n",
    "import math\n",
    "import sys\n",
    "import matplotlib.pyplot as plt\n",
    "import torch\n",
    "import torch.nn as nn\n",
    "from torch.autograd import Variable\n",
    "import torch.utils.data\n",
    "import copy\n",
    "import pandas as pd\n",
    "from sklearn.utils import shuffle\n",
    "import torch.nn.functional as F\n",
    "import torchvision\n",
    "from torchvision import datasets, transforms, models\n",
    "from torch.utils.data import DataLoader, Dataset\n",
    "from torch.optim.lr_scheduler import StepLR\n",
    "import torch.optim as optim\n",
    "from math import floor\n",
    "import random\n",
    "\n",
    "\n",
    "import sys\n",
    "sys.path.append('/home/r120084/pytorch_lib/pytorch/')\n",
    "import lib.pytorch_trainer as ptt\n",
    "\n",
    "\n",
    "use_gpu = torch.cuda.is_available()\n",
    "print('GPU available:', use_gpu)"
   ]
  },
  {
   "cell_type": "code",
   "execution_count": 2,
   "metadata": {
    "collapsed": true
   },
   "outputs": [],
   "source": [
    "path2data = '/home/r120084/data/'"
   ]
  },
  {
   "cell_type": "code",
   "execution_count": 3,
   "metadata": {
    "collapsed": true
   },
   "outputs": [],
   "source": [
    "path2trainData = path2data + 'train/training.csv'\n",
    "path2testData = path2data + 'test/test.csv'"
   ]
  },
  {
   "cell_type": "code",
   "execution_count": 12,
   "metadata": {
    "collapsed": true
   },
   "outputs": [],
   "source": [
    "class FaceKeyPointsDataset(Dataset):\n",
    "\n",
    "    def __init__(self, path2data, val_size = 0.1, dropnan = True, transforms=None,\n",
    "                 is_valid=False, is_test=False, is_train = False):\n",
    "        \n",
    "        \n",
    "        self.transform = transforms    \n",
    "        self.df = pd.read_csv(path2data)\n",
    "        if dropnan:\n",
    "            self.df = self.df.dropna()\n",
    "\n",
    "        self.df['Image'] = self.df['Image'].apply(lambda im: self.get_image(im))\n",
    "        self.get_X()\n",
    "        \n",
    "        if ( (is_train) or (is_valid)):\n",
    "            self.get_train_target() \n",
    "            if is_valid:\n",
    "                self.split_data(val_size)\n",
    "            self.normalize_target()\n",
    "            \n",
    "        if is_test:\n",
    "            self.get_test_target()\n",
    "                 \n",
    "    def normalize_target(self):\n",
    "        #self.y = (self.y- self.y.max()) /self.y.max()\n",
    "        self.y = (self.y - 48) / 48 \n",
    "        self.y = self.y.astype(np.float32)\n",
    "\n",
    " \n",
    "    def _show_keys(self):\n",
    "         print(self.df.dtypes)\n",
    "\n",
    "    def get_image(self, x):\n",
    "        x = np.fromstring(x, sep = ' ')\n",
    "        return x\n",
    "\n",
    "    def get_X(self):\n",
    "\n",
    "        self.X = np.vstack(self.df['Image'].values) / 255.  # scale pixel values to [0, 1]\n",
    "        self.X = self.X.astype(np.float32)\n",
    "        self.X = self.X.reshape(-1, 1, 96, 96) # return each images as 1 x 96 x 96\n",
    "\n",
    "    def get_train_target(self):\n",
    "\n",
    "        self.y = self.df[self.df.columns[:-1]].values\n",
    "\n",
    "    def get_test_target(self):\n",
    "        self.y = np.zeros(len(self.X))\n",
    "        #self.y = None\n",
    "\n",
    "    def split_data(self, val_size = 0.1):\n",
    "\n",
    "        np.random.seed(4572)\n",
    "        indices = range(len(self.X))\n",
    "\n",
    "        ind = np.random.permutation(indices)\n",
    "        split = np.round(val_size * len(self.X))\n",
    "        index= np.array(ind[:split])\n",
    "        \n",
    "        self.X = self.X.take(index,axis=0)\n",
    "        self.y = self.y.take(index,axis=0)\n",
    "    \n",
    "    def __getitem__(self, index):\n",
    "        image = self.X[index]\n",
    "        keypoints = self.y[index]\n",
    "        \n",
    "        sample = {'image': image, 'keypoints': keypoints}\n",
    "\n",
    "        if self.transform:\n",
    "            sample = self.transform(sample)\n",
    "        #documentar 96x1x96\n",
    "        #if self.transform is not None:\n",
    "        #    image = self.transform(image)\n",
    "        return sample\n",
    "\n",
    "         \n",
    "    # documentar no pytorch\n",
    "    def __len__(self):\n",
    "        return len(self.X)"
   ]
  },
  {
   "cell_type": "code",
   "execution_count": 13,
   "metadata": {
    "collapsed": true
   },
   "outputs": [],
   "source": [
    "batch_size = 32"
   ]
  },
  {
   "cell_type": "code",
   "execution_count": 48,
   "metadata": {
    "collapsed": true
   },
   "outputs": [],
   "source": [
    "class ToTensor(object):\n",
    "\n",
    "    def __call__(self, sample):\n",
    "        image, keypoints = sample['image'], sample['keypoints']\n",
    "\n",
    "        # imagem numpy: C x H x W\n",
    "        # imagem torch: C X H X W\n",
    "        image = image.transpose((0, 1, 2))\n",
    "        return {'image': torch.from_numpy(image),\n",
    "                'keypoints': torch.from_numpy(keypoints)}"
   ]
  },
  {
   "cell_type": "code",
   "execution_count": 49,
   "metadata": {
    "collapsed": true
   },
   "outputs": [],
   "source": [
    "data_transforms = {\n",
    "    'train': transforms.Compose([\n",
    "        #transforms.ToTensor()\n",
    "        ToTensor()\n",
    "\n",
    "    ]),\n",
    "    'valid': transforms.Compose([\n",
    "        #transforms.ToTensor()\n",
    "        ToTensor()\n",
    "\n",
    "    ]),\n",
    "}"
   ]
  },
  {
   "cell_type": "code",
   "execution_count": 50,
   "metadata": {},
   "outputs": [
    {
     "name": "stderr",
     "output_type": "stream",
     "text": [
      "/home/adessowiki/anaconda3/lib/python3.6/site-packages/ipykernel/__main__.py:58: VisibleDeprecationWarning: using a non-integer number instead of an integer will result in an error in the future\n"
     ]
    }
   ],
   "source": [
    "dsets = {\n",
    "    'train': FaceKeyPointsDataset(path2trainData, transforms=data_transforms['train'], is_train = True),\n",
    "    'valid': FaceKeyPointsDataset(path2trainData, transforms=data_transforms['valid'], is_valid=True),\n",
    "    'test':  FaceKeyPointsDataset(path2testData, transforms=data_transforms['valid'], is_test=True),\n",
    "}"
   ]
  },
  {
   "cell_type": "code",
   "execution_count": 51,
   "metadata": {
    "collapsed": true
   },
   "outputs": [],
   "source": [
    "if use_gpu:\n",
    "    \n",
    "    dset_loaders = {\n",
    "        'train': DataLoader(dsets['train'], batch_size=batch_size, shuffle=True,  pin_memory=True),\n",
    "        'valid': DataLoader(dsets['valid'], batch_size=batch_size, shuffle=False,  pin_memory=True),\n",
    "        'test':  DataLoader(dsets['test'],  batch_size=batch_size, shuffle=False,  pin_memory=True),\n",
    "    }\n",
    "else:\n",
    "    \n",
    "    dset_loaders = {\n",
    "        'train': DataLoader(dsets['train'], batch_size=batch_size, shuffle=True),\n",
    "        'valid': DataLoader(dsets['valid'], batch_size=batch_size, shuffle=False),\n",
    "        'test':  DataLoader(dsets['test'],  batch_size=batch_size, shuffle=False),\n",
    "    }"
   ]
  },
  {
   "cell_type": "code",
   "execution_count": 52,
   "metadata": {},
   "outputs": [
    {
     "name": "stdout",
     "output_type": "stream",
     "text": [
      "left_eye_center_x            float64\n",
      "left_eye_center_y            float64\n",
      "right_eye_center_x           float64\n",
      "right_eye_center_y           float64\n",
      "left_eye_inner_corner_x      float64\n",
      "left_eye_inner_corner_y      float64\n",
      "left_eye_outer_corner_x      float64\n",
      "left_eye_outer_corner_y      float64\n",
      "right_eye_inner_corner_x     float64\n",
      "right_eye_inner_corner_y     float64\n",
      "right_eye_outer_corner_x     float64\n",
      "right_eye_outer_corner_y     float64\n",
      "left_eyebrow_inner_end_x     float64\n",
      "left_eyebrow_inner_end_y     float64\n",
      "left_eyebrow_outer_end_x     float64\n",
      "left_eyebrow_outer_end_y     float64\n",
      "right_eyebrow_inner_end_x    float64\n",
      "right_eyebrow_inner_end_y    float64\n",
      "right_eyebrow_outer_end_x    float64\n",
      "right_eyebrow_outer_end_y    float64\n",
      "nose_tip_x                   float64\n",
      "nose_tip_y                   float64\n",
      "mouth_left_corner_x          float64\n",
      "mouth_left_corner_y          float64\n",
      "mouth_right_corner_x         float64\n",
      "mouth_right_corner_y         float64\n",
      "mouth_center_top_lip_x       float64\n",
      "mouth_center_top_lip_y       float64\n",
      "mouth_center_bottom_lip_x    float64\n",
      "mouth_center_bottom_lip_y    float64\n",
      "Image                         object\n",
      "dtype: object\n"
     ]
    }
   ],
   "source": [
    "dsets['train']._show_keys()"
   ]
  },
  {
   "cell_type": "code",
   "execution_count": 53,
   "metadata": {
    "collapsed": true
   },
   "outputs": [],
   "source": [
    "def plot_face_Keypoints(dsets, is_train = True, preds_test = [], preds_train = []):\n",
    "    \n",
    "    plt.figure(figsize=(20,5))\n",
    "    for i in range(0, 4):\n",
    "        plt.subplot(1,4,i+1)\n",
    "\n",
    "        rand_img = random.randrange(0, len(dsets))\n",
    "\n",
    "        try:\n",
    "            X = dsets[rand_img]['image'].numpy()\n",
    "            img = X.transpose((1, 2, 0))\n",
    "        except:\n",
    "            img = dsets[rand_img]['image']\n",
    "        img = np.squeeze(img)\n",
    "\n",
    "        if is_train:\n",
    "            y =  dsets[rand_img]['keypoints'].numpy()\n",
    "        else:\n",
    "            y = preds_test.numpy()[rand_img]\n",
    "\n",
    "        cordinates = y* 48 + 48\n",
    "\n",
    "        plt.imshow(img, cmap = 'gray')\n",
    "        if (len(preds_train) !=0):\n",
    "            plt.scatter(cordinates[::2], cordinates[1::2], marker='o', c='b', s=10)\n",
    "            y_train = preds_train.numpy()\n",
    "            cordinates_train = y_train[rand_img]*48 + 48\n",
    "            plt.scatter(cordinates_train[::2], cordinates_train[1::2], marker='o', c='r', s=10)\n",
    "\n",
    "        plt.scatter(cordinates[::2], cordinates[1::2], marker='o', c='b', s=10)\n",
    "        plt.title('Sample n {}'.format(rand_img))\n",
    "        plt.axis('off')"
   ]
  },
  {
   "cell_type": "code",
   "execution_count": 54,
   "metadata": {},
   "outputs": [
    {
     "data": {
      "image/png": "[encoded data removed]",
      "text/plain": [
       "<matplotlib.figure.Figure at 0x7feadd349e48>"
      ]
     },
     "metadata": {},
     "output_type": "display_data"
    }
   ],
   "source": [
    "plot_face_Keypoints(dsets['train'])"
   ]
  },
  {
   "cell_type": "code",
   "execution_count": 55,
   "metadata": {
    "collapsed": true
   },
   "outputs": [],
   "source": [
    "nb_out = 30"
   ]
  },
  {
   "cell_type": "code",
   "execution_count": 56,
   "metadata": {
    "collapsed": true
   },
   "outputs": [],
   "source": [
    "class myconvNet(nn.Module):\n",
    "\n",
    "    def __init__(self, image_size=(1,96,96)):\n",
    "        super(myconvNet, self).__init__()  \n",
    "        \n",
    "        self.conv1 = nn.Conv2d(image_size[0], 24, kernel_size=5)\n",
    "        self.pool1 = torch.nn.MaxPool2d(2, 2)\n",
    "        \n",
    "        self.conv2 = nn.Conv2d(24, 36, kernel_size=5)\n",
    "        self.pool2 = torch.nn.MaxPool2d(2, 2)\n",
    "\n",
    "\n",
    "        self.conv3 = nn.Conv2d(36, 48, kernel_size=5)\n",
    "        self.pool3 = torch.nn.MaxPool2d(2, 2)\n",
    "\n",
    "\n",
    "        self.conv4 = nn.Conv2d(48, 64, kernel_size=5)\n",
    "        self.pool4 = torch.nn.AvgPool2d(2, 2)\n",
    "        \n",
    "        feature_size = self._get_conv_output(image_size)\n",
    "        \n",
    "        self.fc1 = nn.Linear(feature_size, 128)    \n",
    "        self.drop_dense1 = torch.nn.Dropout(0.25)\n",
    "\n",
    "        self.fc2 = nn.Linear(128, 64)\n",
    "        self.drop_dense2 = torch.nn.Dropout(0.5)\n",
    "\n",
    "        self.fc3 = nn.Linear(64, nb_out)\n",
    "\n",
    "        \n",
    "    def forward(self, x):\n",
    "        x = self._forward_features(x)\n",
    "        x = x.view(x.size(0), -1)\n",
    "        x = F.relu(self.fc1(x))\n",
    "        x = self.drop_dense1(x)\n",
    "        x = F.relu(self.fc2(x))\n",
    "        x = self.drop_dense2(x)\n",
    "        x = self.fc3(x)\n",
    "        return x\n",
    "    \n",
    "    \n",
    "    def _forward_features(self, x): \n",
    "        x = F.relu(self.conv1(x))\n",
    "        x = self.pool1(x)\n",
    "        x = F.relu(self.conv2(x))\n",
    "        x = self.pool2(x)\n",
    "        x = F.relu(self.conv3(x))\n",
    "        x = self.pool3(x)\n",
    "        x = F.relu(self.conv4(x))\n",
    "        x = self.pool4(x)     \n",
    "        return x\n",
    "    \n",
    "    \n",
    "    def _get_conv_output(self, shape):\n",
    "        bs = 1\n",
    "        input = Variable(torch.rand(bs, *shape))\n",
    "        output_feat = self._forward_features(input)\n",
    "        n_size = output_feat.data.view(bs, -1).size(1)\n",
    "        return n_size\n",
    "    "
   ]
  },
  {
   "cell_type": "code",
   "execution_count": 57,
   "metadata": {
    "collapsed": true
   },
   "outputs": [],
   "source": [
    "myconvNet = myconvNet()\n",
    "if use_gpu:\n",
    "    myconvNet = myconvNet.cuda()"
   ]
  },
  {
   "cell_type": "code",
   "execution_count": 58,
   "metadata": {},
   "outputs": [
    {
     "name": "stdout",
     "output_type": "stream",
     "text": [
      "myconvNet (\n",
      "  (conv1): Conv2d(1, 24, kernel_size=(5, 5), stride=(1, 1))\n",
      "  (pool1): MaxPool2d (size=(2, 2), stride=(2, 2), dilation=(1, 1))\n",
      "  (conv2): Conv2d(24, 36, kernel_size=(5, 5), stride=(1, 1))\n",
      "  (pool2): MaxPool2d (size=(2, 2), stride=(2, 2), dilation=(1, 1))\n",
      "  (conv3): Conv2d(36, 48, kernel_size=(5, 5), stride=(1, 1))\n",
      "  (pool3): MaxPool2d (size=(2, 2), stride=(2, 2), dilation=(1, 1))\n",
      "  (conv4): Conv2d(48, 64, kernel_size=(5, 5), stride=(1, 1))\n",
      "  (pool4): AvgPool2d (size=2, stride=2, padding=0, ceil_mode=False, count_include_pad=True)\n",
      "  (fc1): Linear (256 -> 128)\n",
      "  (drop_dense1): Dropout (p = 0.25)\n",
      "  (fc2): Linear (128 -> 64)\n",
      "  (drop_dense2): Dropout (p = 0.5)\n",
      "  (fc3): Linear (64 -> 30)\n",
      ")\n"
     ]
    }
   ],
   "source": [
    "print(myconvNet)"
   ]
  },
  {
   "cell_type": "code",
   "execution_count": 59,
   "metadata": {
    "collapsed": true
   },
   "outputs": [],
   "source": [
    "def prediction(loader, model, loss_fn):\n",
    "    for i, data in enumerate(loader):     \n",
    "        inputs, labels = data['image'], data['keypoints']\n",
    "        inputs, labels = Variable(inputs), Variable(labels) \n",
    "        # forward pass\n",
    "        outputs = model(inputs)\n",
    "        # loss\n",
    "        loss = loss_fn(outputs, labels)\n",
    "    return (loss.data[0])"
   ]
  },
  {
   "cell_type": "code",
   "execution_count": 60,
   "metadata": {
    "collapsed": true
   },
   "outputs": [],
   "source": [
    "def train(model, train_loader, test_loader ,num_epochs, loss_fn, optimizer, patience  ):\n",
    "    \n",
    "    history_loss = []\n",
    "    loss_train = []\n",
    "    loss_test = []\n",
    "    best_test_acc =  np.inf\n",
    "    patience_count= 0\n",
    "    for epoch in range(num_epochs):\n",
    "        for i, data in enumerate(train_loader):\n",
    "            inputs, labels = data['image'], data['keypoints']\n",
    "            inputs, labels = Variable(inputs), Variable(labels)\n",
    "            predict = model(inputs)\n",
    "            \n",
    "            loss = loss_fn(predict, labels)\n",
    "            optimizer.zero_grad()\n",
    "            loss.backward()\n",
    "            optimizer.step()\n",
    "            \n",
    "        loss_train.append(prediction(train_loader, model,loss_fn) )\n",
    "        loss_test.append( prediction(test_loader, model,loss_fn) )\n",
    "        history_loss.append(loss.data[0])\n",
    "        \n",
    "        print('Epoch:', epoch, ' Loss Train: ', loss_train[-1],  ' Lost Test: ', loss_test[-1])\n",
    "\n",
    "        #Early stopping\n",
    "        if(best_test_acc < loss_test[-1]):\n",
    "            patience_count = 0\n",
    "            best_test_acc = loss_test[-1]\n",
    "            best_model = copy.deepcopy(model)\n",
    "\n",
    "        if(patience_count > patience):\n",
    "            break;\n",
    "\n",
    "        patience_count += 1\n",
    "        \n",
    "        \n",
    "    print('Done!')\n",
    "    return history_loss, loss_train, loss_train, model "
   ]
  },
  {
   "cell_type": "code",
   "execution_count": 61,
   "metadata": {
    "collapsed": true
   },
   "outputs": [],
   "source": [
    "loss_fn = torch.nn.MSELoss()\n",
    "#optimizer = torch.optim.Adam(myconvNet.parameters()) \n",
    "optimizer =  optim.RMSprop(myconvNet.parameters(), lr=1e-3)\n",
    "#lr = 0.1\n",
    "#optimizer = torch.optim.SGD(net.parameters(), lr=lr, momentum=0.9)\n",
    "num_epochs = 5\n",
    "patience = 2"
   ]
  },
  {
   "cell_type": "code",
   "execution_count": 62,
   "metadata": {
    "collapsed": true
   },
   "outputs": [],
   "source": [
    "params = {'model' : myconvNet, \n",
    "        'train_loader':dset_loaders['train'],\n",
    "         'test_loader':dset_loaders['valid'],\n",
    "         'num_epochs': num_epochs,\n",
    "         'loss_fn': loss_fn,\n",
    "        'optimizer': optimizer, \n",
    "         'patience': patience \n",
    "         }"
   ]
  },
  {
   "cell_type": "code",
   "execution_count": 63,
   "metadata": {},
   "outputs": [
    {
     "name": "stdout",
     "output_type": "stream",
     "text": [
      "Epoch: 0  Loss Train:  0.021310247480869293  Lost Test:  0.02435210533440113\n",
      "(32, 1, 96, 96)\n",
      "Epoch: 1  Loss Train:  0.018190428614616394  Lost Test:  0.022512905299663544\n",
      "Epoch: 2  Loss Train:  0.02153523452579975  Lost Test:  0.018701355904340744\n",
      "Epoch: 3  Loss Train:  0.01302922423928976  Lost Test:  0.012229319661855698\n",
      "Done!\n"
     ]
    }
   ],
   "source": [
    "history_loss, loss_train, loss_train, model   = train(**params)"
   ]
  },
  {
   "cell_type": "code",
   "execution_count": 64,
   "metadata": {
    "collapsed": true
   },
   "outputs": [],
   "source": [
    "def predict(model, dset_loaders, use_gpu = False):\n",
    "\n",
    "    predictions = []\n",
    "    if use_gpu:\n",
    "        use_gpu = torch.cuda.is_available()\n",
    "\n",
    "    model.train(False)  # Set model to evaluate mode\n",
    "    ii_n = len(dset_loaders)\n",
    "    for ii, data in enumerate(dset_loaders):\n",
    "        image, labels = data['image'], data['keypoints']\n",
    "        if use_gpu:\n",
    "            image = Variable(image.cuda())\n",
    "        else:\n",
    "            image = Variable(image)\n",
    "        outputs = model.forward(image)\n",
    "        predictions.append(outputs.data.cpu())\n",
    "        print('\\rpredict: {}/{}'.format(ii, ii_n - 1), end='')\n",
    "    print(' ok')\n",
    "    if len(predictions) > 0:\n",
    "        return torch.cat(predictions, 0)"
   ]
  },
  {
   "cell_type": "code",
   "execution_count": 65,
   "metadata": {},
   "outputs": [
    {
     "ename": "RuntimeError",
     "evalue": "from_numpy expects an np.ndarray but got numpy.float64",
     "output_type": "error",
     "traceback": [
      "\u001b[0;31m---------------------------------------------------------------------------\u001b[0m",
      "\u001b[0;31mRuntimeError\u001b[0m                              Traceback (most recent call last)",
      "\u001b[0;32m<ipython-input-65-bc2ed3ef7da0>\u001b[0m in \u001b[0;36m<module>\u001b[0;34m()\u001b[0m\n\u001b[0;32m----> 1\u001b[0;31m \u001b[0mpreds_test\u001b[0m \u001b[0;34m=\u001b[0m \u001b[0mpredict\u001b[0m\u001b[0;34m(\u001b[0m\u001b[0mmyconvNet\u001b[0m\u001b[0;34m,\u001b[0m \u001b[0mdset_loaders\u001b[0m\u001b[0;34m[\u001b[0m\u001b[0;34m'test'\u001b[0m\u001b[0;34m]\u001b[0m\u001b[0;34m)\u001b[0m\u001b[0;34m\u001b[0m\u001b[0m\n\u001b[0m\u001b[1;32m      2\u001b[0m \u001b[0mpreds_train\u001b[0m \u001b[0;34m=\u001b[0m \u001b[0mpredict\u001b[0m\u001b[0;34m(\u001b[0m\u001b[0mmyconvNet\u001b[0m\u001b[0;34m,\u001b[0m \u001b[0mdset_loaders\u001b[0m\u001b[0;34m[\u001b[0m\u001b[0;34m'train'\u001b[0m\u001b[0;34m]\u001b[0m\u001b[0;34m)\u001b[0m\u001b[0;34m\u001b[0m\u001b[0m\n",
      "\u001b[0;32m<ipython-input-64-026f4fc7424e>\u001b[0m in \u001b[0;36mpredict\u001b[0;34m(model, dset_loaders, use_gpu)\u001b[0m\n\u001b[1;32m      7\u001b[0m     \u001b[0mmodel\u001b[0m\u001b[0;34m.\u001b[0m\u001b[0mtrain\u001b[0m\u001b[0;34m(\u001b[0m\u001b[0;32mFalse\u001b[0m\u001b[0;34m)\u001b[0m  \u001b[0;31m# Set model to evaluate mode\u001b[0m\u001b[0;34m\u001b[0m\u001b[0m\n\u001b[1;32m      8\u001b[0m     \u001b[0mii_n\u001b[0m \u001b[0;34m=\u001b[0m \u001b[0mlen\u001b[0m\u001b[0;34m(\u001b[0m\u001b[0mdset_loaders\u001b[0m\u001b[0;34m)\u001b[0m\u001b[0;34m\u001b[0m\u001b[0m\n\u001b[0;32m----> 9\u001b[0;31m     \u001b[0;32mfor\u001b[0m \u001b[0mii\u001b[0m\u001b[0;34m,\u001b[0m \u001b[0mdata\u001b[0m \u001b[0;32min\u001b[0m \u001b[0menumerate\u001b[0m\u001b[0;34m(\u001b[0m\u001b[0mdset_loaders\u001b[0m\u001b[0;34m)\u001b[0m\u001b[0;34m:\u001b[0m\u001b[0;34m\u001b[0m\u001b[0m\n\u001b[0m\u001b[1;32m     10\u001b[0m         \u001b[0mimage\u001b[0m\u001b[0;34m,\u001b[0m \u001b[0mlabels\u001b[0m \u001b[0;34m=\u001b[0m \u001b[0mdata\u001b[0m\u001b[0;34m[\u001b[0m\u001b[0;34m'image'\u001b[0m\u001b[0;34m]\u001b[0m\u001b[0;34m,\u001b[0m \u001b[0mdata\u001b[0m\u001b[0;34m[\u001b[0m\u001b[0;34m'keypoints'\u001b[0m\u001b[0;34m]\u001b[0m\u001b[0;34m\u001b[0m\u001b[0m\n\u001b[1;32m     11\u001b[0m         \u001b[0;32mif\u001b[0m \u001b[0muse_gpu\u001b[0m\u001b[0;34m:\u001b[0m\u001b[0;34m\u001b[0m\u001b[0m\n",
      "\u001b[0;32m/home/adessowiki/anaconda3/lib/python3.6/site-packages/torch/utils/data/dataloader.py\u001b[0m in \u001b[0;36m__next__\u001b[0;34m(self)\u001b[0m\n\u001b[1;32m    177\u001b[0m         \u001b[0;32mif\u001b[0m \u001b[0mself\u001b[0m\u001b[0;34m.\u001b[0m\u001b[0mnum_workers\u001b[0m \u001b[0;34m==\u001b[0m \u001b[0;36m0\u001b[0m\u001b[0;34m:\u001b[0m  \u001b[0;31m# same-process loading\u001b[0m\u001b[0;34m\u001b[0m\u001b[0m\n\u001b[1;32m    178\u001b[0m             \u001b[0mindices\u001b[0m \u001b[0;34m=\u001b[0m \u001b[0mnext\u001b[0m\u001b[0;34m(\u001b[0m\u001b[0mself\u001b[0m\u001b[0;34m.\u001b[0m\u001b[0msample_iter\u001b[0m\u001b[0;34m)\u001b[0m  \u001b[0;31m# may raise StopIteration\u001b[0m\u001b[0;34m\u001b[0m\u001b[0m\n\u001b[0;32m--> 179\u001b[0;31m             \u001b[0mbatch\u001b[0m \u001b[0;34m=\u001b[0m \u001b[0mself\u001b[0m\u001b[0;34m.\u001b[0m\u001b[0mcollate_fn\u001b[0m\u001b[0;34m(\u001b[0m\u001b[0;34m[\u001b[0m\u001b[0mself\u001b[0m\u001b[0;34m.\u001b[0m\u001b[0mdataset\u001b[0m\u001b[0;34m[\u001b[0m\u001b[0mi\u001b[0m\u001b[0;34m]\u001b[0m \u001b[0;32mfor\u001b[0m \u001b[0mi\u001b[0m \u001b[0;32min\u001b[0m \u001b[0mindices\u001b[0m\u001b[0;34m]\u001b[0m\u001b[0;34m)\u001b[0m\u001b[0;34m\u001b[0m\u001b[0m\n\u001b[0m\u001b[1;32m    180\u001b[0m             \u001b[0;32mif\u001b[0m \u001b[0mself\u001b[0m\u001b[0;34m.\u001b[0m\u001b[0mpin_memory\u001b[0m\u001b[0;34m:\u001b[0m\u001b[0;34m\u001b[0m\u001b[0m\n\u001b[1;32m    181\u001b[0m                 \u001b[0mbatch\u001b[0m \u001b[0;34m=\u001b[0m \u001b[0mpin_memory_batch\u001b[0m\u001b[0;34m(\u001b[0m\u001b[0mbatch\u001b[0m\u001b[0;34m)\u001b[0m\u001b[0;34m\u001b[0m\u001b[0m\n",
      "\u001b[0;32m/home/adessowiki/anaconda3/lib/python3.6/site-packages/torch/utils/data/dataloader.py\u001b[0m in \u001b[0;36m<listcomp>\u001b[0;34m(.0)\u001b[0m\n\u001b[1;32m    177\u001b[0m         \u001b[0;32mif\u001b[0m \u001b[0mself\u001b[0m\u001b[0;34m.\u001b[0m\u001b[0mnum_workers\u001b[0m \u001b[0;34m==\u001b[0m \u001b[0;36m0\u001b[0m\u001b[0;34m:\u001b[0m  \u001b[0;31m# same-process loading\u001b[0m\u001b[0;34m\u001b[0m\u001b[0m\n\u001b[1;32m    178\u001b[0m             \u001b[0mindices\u001b[0m \u001b[0;34m=\u001b[0m \u001b[0mnext\u001b[0m\u001b[0;34m(\u001b[0m\u001b[0mself\u001b[0m\u001b[0;34m.\u001b[0m\u001b[0msample_iter\u001b[0m\u001b[0;34m)\u001b[0m  \u001b[0;31m# may raise StopIteration\u001b[0m\u001b[0;34m\u001b[0m\u001b[0m\n\u001b[0;32m--> 179\u001b[0;31m             \u001b[0mbatch\u001b[0m \u001b[0;34m=\u001b[0m \u001b[0mself\u001b[0m\u001b[0;34m.\u001b[0m\u001b[0mcollate_fn\u001b[0m\u001b[0;34m(\u001b[0m\u001b[0;34m[\u001b[0m\u001b[0mself\u001b[0m\u001b[0;34m.\u001b[0m\u001b[0mdataset\u001b[0m\u001b[0;34m[\u001b[0m\u001b[0mi\u001b[0m\u001b[0;34m]\u001b[0m \u001b[0;32mfor\u001b[0m \u001b[0mi\u001b[0m \u001b[0;32min\u001b[0m \u001b[0mindices\u001b[0m\u001b[0;34m]\u001b[0m\u001b[0;34m)\u001b[0m\u001b[0;34m\u001b[0m\u001b[0m\n\u001b[0m\u001b[1;32m    180\u001b[0m             \u001b[0;32mif\u001b[0m \u001b[0mself\u001b[0m\u001b[0;34m.\u001b[0m\u001b[0mpin_memory\u001b[0m\u001b[0;34m:\u001b[0m\u001b[0;34m\u001b[0m\u001b[0m\n\u001b[1;32m    181\u001b[0m                 \u001b[0mbatch\u001b[0m \u001b[0;34m=\u001b[0m \u001b[0mpin_memory_batch\u001b[0m\u001b[0;34m(\u001b[0m\u001b[0mbatch\u001b[0m\u001b[0;34m)\u001b[0m\u001b[0;34m\u001b[0m\u001b[0m\n",
      "\u001b[0;32m<ipython-input-12-ee754a0e4648>\u001b[0m in \u001b[0;36m__getitem__\u001b[0;34m(self, index)\u001b[0m\n\u001b[1;32m     68\u001b[0m \u001b[0;34m\u001b[0m\u001b[0m\n\u001b[1;32m     69\u001b[0m         \u001b[0;32mif\u001b[0m \u001b[0mself\u001b[0m\u001b[0;34m.\u001b[0m\u001b[0mtransform\u001b[0m\u001b[0;34m:\u001b[0m\u001b[0;34m\u001b[0m\u001b[0m\n\u001b[0;32m---> 70\u001b[0;31m             \u001b[0msample\u001b[0m \u001b[0;34m=\u001b[0m \u001b[0mself\u001b[0m\u001b[0;34m.\u001b[0m\u001b[0mtransform\u001b[0m\u001b[0;34m(\u001b[0m\u001b[0msample\u001b[0m\u001b[0;34m)\u001b[0m\u001b[0;34m\u001b[0m\u001b[0m\n\u001b[0m\u001b[1;32m     71\u001b[0m         \u001b[0;31m#documentar 96x1x96\u001b[0m\u001b[0;34m\u001b[0m\u001b[0;34m\u001b[0m\u001b[0m\n\u001b[1;32m     72\u001b[0m         \u001b[0;31m#if self.transform is not None:\u001b[0m\u001b[0;34m\u001b[0m\u001b[0;34m\u001b[0m\u001b[0m\n",
      "\u001b[0;32m/home/adessowiki/anaconda3/lib/python3.6/site-packages/torchvision-0.1.9-py3.6.egg/torchvision/transforms.py\u001b[0m in \u001b[0;36m__call__\u001b[0;34m(self, img)\u001b[0m\n\u001b[1;32m     32\u001b[0m     \u001b[0;32mdef\u001b[0m \u001b[0m__call__\u001b[0m\u001b[0;34m(\u001b[0m\u001b[0mself\u001b[0m\u001b[0;34m,\u001b[0m \u001b[0mimg\u001b[0m\u001b[0;34m)\u001b[0m\u001b[0;34m:\u001b[0m\u001b[0;34m\u001b[0m\u001b[0m\n\u001b[1;32m     33\u001b[0m         \u001b[0;32mfor\u001b[0m \u001b[0mt\u001b[0m \u001b[0;32min\u001b[0m \u001b[0mself\u001b[0m\u001b[0;34m.\u001b[0m\u001b[0mtransforms\u001b[0m\u001b[0;34m:\u001b[0m\u001b[0;34m\u001b[0m\u001b[0m\n\u001b[0;32m---> 34\u001b[0;31m             \u001b[0mimg\u001b[0m \u001b[0;34m=\u001b[0m \u001b[0mt\u001b[0m\u001b[0;34m(\u001b[0m\u001b[0mimg\u001b[0m\u001b[0;34m)\u001b[0m\u001b[0;34m\u001b[0m\u001b[0m\n\u001b[0m\u001b[1;32m     35\u001b[0m         \u001b[0;32mreturn\u001b[0m \u001b[0mimg\u001b[0m\u001b[0;34m\u001b[0m\u001b[0m\n\u001b[1;32m     36\u001b[0m \u001b[0;34m\u001b[0m\u001b[0m\n",
      "\u001b[0;32m<ipython-input-48-e9d41b7ef9cb>\u001b[0m in \u001b[0;36m__call__\u001b[0;34m(self, sample)\u001b[0m\n\u001b[1;32m      8\u001b[0m         \u001b[0mimage\u001b[0m \u001b[0;34m=\u001b[0m \u001b[0mimage\u001b[0m\u001b[0;34m.\u001b[0m\u001b[0mtranspose\u001b[0m\u001b[0;34m(\u001b[0m\u001b[0;34m(\u001b[0m\u001b[0;36m0\u001b[0m\u001b[0;34m,\u001b[0m \u001b[0;36m1\u001b[0m\u001b[0;34m,\u001b[0m \u001b[0;36m2\u001b[0m\u001b[0;34m)\u001b[0m\u001b[0;34m)\u001b[0m\u001b[0;34m\u001b[0m\u001b[0m\n\u001b[1;32m      9\u001b[0m         return {'image': torch.from_numpy(image),\n\u001b[0;32m---> 10\u001b[0;31m                 'keypoints': torch.from_numpy(keypoints)}\n\u001b[0m",
      "\u001b[0;31mRuntimeError\u001b[0m: from_numpy expects an np.ndarray but got numpy.float64"
     ]
    }
   ],
   "source": [
    "preds_test = predict(myconvNet, dset_loaders['test'])\n",
    "preds_train = predict(myconvNet, dset_loaders['train'])"
   ]
  },
  {
   "cell_type": "code",
   "execution_count": null,
   "metadata": {},
   "outputs": [],
   "source": [
    "(preds_test.shape, preds_train.shape)"
   ]
  },
  {
   "cell_type": "code",
   "execution_count": null,
   "metadata": {},
   "outputs": [],
   "source": [
    "plot_face_Keypoints(dsets['train'],  preds_train = preds_train)"
   ]
  },
  {
   "cell_type": "code",
   "execution_count": null,
   "metadata": {},
   "outputs": [],
   "source": [
    "plot_face_Keypoints(dsets['test'], is_train= False,  preds_test = preds_test)"
   ]
  },
  {
   "cell_type": "code",
   "execution_count": null,
   "metadata": {},
   "outputs": [],
   "source": [
    "id_lookup_frame = pd.read_csv(path2data + \"IdLookupTable.csv\")\n",
    "val_reqrd = id_lookup_frame[[\"ImageId\", \"FeatureName\"]]\n",
    "val_reqrd.head()"
   ]
  },
  {
   "cell_type": "code",
   "execution_count": null,
   "metadata": {
    "collapsed": true
   },
   "outputs": [],
   "source": [
    "y_test= preds.numpy() * 48  + 48\n",
    "columns = dsets['train'].df.columns[:-1]"
   ]
  },
  {
   "cell_type": "code",
   "execution_count": null,
   "metadata": {
    "collapsed": true
   },
   "outputs": [],
   "source": [
    "def generate_output_submission(y_test, columns, filename = \"result.csv\"):\n",
    "    y_res = []\n",
    "    j = 0\n",
    "    k = 0\n",
    "    m = 0\n",
    "    for i in range(1, len(y_test)+1):\n",
    "        img = np.array(val_reqrd[val_reqrd[\"ImageId\"]==i])\n",
    "        if img.shape[0] == 30:\n",
    "            y_res += list(y_test[i-1,:])\n",
    "            j += 30\n",
    "        else:\n",
    "            slice_img = y_test[i-1, :]\n",
    "            y_res += [slice_img[j] for j in range(30) if columns[j] in img[:, 1]]\n",
    "            k += len([slice_img[j] for j in range(30) if columns[j] in img[:, 1]])\n",
    "    y_res = np.array(y_res)\n",
    "\n",
    "    \n",
    "    result_dict = {\n",
    "    \"RowId\": range(1,y_res.shape[0]+1),\n",
    "    \"Location\": y_res\n",
    "    }\n",
    "    result_df = pd.DataFrame(result_dict, )\n",
    "    result_df.to_csv(filename, index=False, columns=[\"RowId\", \"Location\"])\n",
    "    print('Done!')"
   ]
  },
  {
   "cell_type": "code",
   "execution_count": null,
   "metadata": {},
   "outputs": [],
   "source": [
    "generate_output_submission(y_test, columns)"
   ]
  },
  {
   "cell_type": "code",
   "execution_count": null,
   "metadata": {
    "collapsed": true
   },
   "outputs": [],
   "source": []
  }
 ],
 "metadata": {
  "kernelspec": {
   "display_name": "Python 3",
   "language": "python",
   "name": "python3"
  },
  "language_info": {
   "codemirror_mode": {
    "name": "ipython",
    "version": 3
   },
   "file_extension": ".py",
   "mimetype": "text/x-python",
   "name": "python",
   "nbconvert_exporter": "python",
   "pygments_lexer": "ipython3",
   "version": "3.6.0"
  }
 },
 "nbformat": 4,
 "nbformat_minor": 2
}
