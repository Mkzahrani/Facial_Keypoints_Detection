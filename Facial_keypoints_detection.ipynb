{
 "cells": [
  {
   "cell_type": "code",
   "execution_count": 1,
   "metadata": {},
   "outputs": [
    {
     "name": "stdout",
     "output_type": "stream",
     "text": [
      "GPU available: False\n"
     ]
    }
   ],
   "source": [
    "%matplotlib inline\n",
    "\n",
    "import numpy as np\n",
    "import math\n",
    "import sys\n",
    "import matplotlib.pyplot as plt\n",
    "import torch\n",
    "import torch.nn as nn\n",
    "from torch.autograd import Variable\n",
    "import torch.utils.data\n",
    "import copy\n",
    "import pandas as pd\n",
    "from sklearn.utils import shuffle\n",
    "import torch.nn.functional as F\n",
    "import torchvision\n",
    "from torchvision import datasets, transforms, models\n",
    "from torch.utils.data import DataLoader, Dataset\n",
    "from torch.optim.lr_scheduler import StepLR\n",
    "import torch.optim as optim\n",
    "from math import floor\n",
    "import random\n",
    "\n",
    "import sys\n",
    "sys.path.append('/home/r120084/pytorch_lib/pytorch/')\n",
    "import lib.pytorch_trainer as ptt\n",
    "\n",
    "\n",
    "use_gpu = torch.cuda.is_available()\n",
    "print('GPU available:', use_gpu)"
   ]
  },
  {
   "cell_type": "code",
   "execution_count": 2,
   "metadata": {
    "collapsed": true
   },
   "outputs": [],
   "source": [
    "path2data = '/home/r120084/data/'"
   ]
  },
  {
   "cell_type": "code",
   "execution_count": 3,
   "metadata": {
    "collapsed": true
   },
   "outputs": [],
   "source": [
    "path2trainData = path2data + 'train/training.csv'\n",
    "path2testData = path2data + 'test/test.csv'"
   ]
  },
  {
   "cell_type": "code",
   "execution_count": 4,
   "metadata": {
    "collapsed": true
   },
   "outputs": [],
   "source": [
    "class FaceKeyPointsDataset(Dataset):\n",
    "\n",
    "    def __init__(self, path2data, val_size = 0.1, dropnan = True, transforms=None,\n",
    "                 is_valid=False, is_test=False, is_train = False):\n",
    "        \n",
    "        \n",
    "        self.transform = transforms    \n",
    "        self.df = pd.read_csv(path2data)\n",
    "        if dropnan:\n",
    "            self.df = self.df.dropna()\n",
    "\n",
    "        self.df['Image'] = self.df['Image'].apply(lambda im: self.get_image(im))\n",
    "        self.get_X()\n",
    "        \n",
    "        if ( (is_train) or (is_valid)):\n",
    "            self.get_train_target() \n",
    "            if is_valid:\n",
    "                self.split_data(val_size)\n",
    "            self.normalize_target()\n",
    "            \n",
    "        if is_test:\n",
    "            self.get_test_target()\n",
    "                 \n",
    "    def normalize_target(self):\n",
    "        #self.y = (self.y- self.y.max()) /self.y.max()\n",
    "        self.y = (self.y - 48) / 48 \n",
    "        self.y = self.y.astype(np.float32)\n",
    "\n",
    " \n",
    "    def _show_keys(self):\n",
    "         print(self.df.dtypes)\n",
    "\n",
    "    def get_image(self, x):\n",
    "        x = np.fromstring(x, sep = ' ')\n",
    "        return x\n",
    "\n",
    "    def get_X(self):\n",
    "\n",
    "        self.X = np.vstack(self.df['Image'].values) / 255.  # scale pixel values to [0, 1]\n",
    "        self.X = self.X.astype(np.float32)\n",
    "        self.X = self.X.reshape(-1, 1, 96, 96) # return each images as 1 x 96 x 96\n",
    "\n",
    "    def get_train_target(self):\n",
    "\n",
    "        self.y = self.df[self.df.columns[:-1]].values\n",
    "\n",
    "    def get_test_target(self):\n",
    "        self.y = np.zeros(len(self.X))\n",
    "\n",
    "    def split_data(self, val_size = 0.1):\n",
    "\n",
    "        np.random.seed(4572)\n",
    "        indices = range(len(self.X))\n",
    "\n",
    "        ind = np.random.permutation(indices)\n",
    "        split = np.round(val_size * len(self.X))\n",
    "        index= np.array(ind[:split])\n",
    "        \n",
    "        self.X = self.X.take(index,axis=0)\n",
    "        self.y = self.y.take(index,axis=0)\n",
    "    \n",
    "    def __getitem__(self, index):\n",
    "        image = self.X[index]\n",
    "        \n",
    "        label = self.y[index]\n",
    "        #documentar 96x1x96\n",
    "        #if self.transform is not None:\n",
    "        #    image = self.transform(image)\n",
    "        return image, label\n",
    "\n",
    "         \n",
    "    # documentar no pytorch\n",
    "    def __len__(self):\n",
    "        return len(self.X)"
   ]
  },
  {
   "cell_type": "code",
   "execution_count": 5,
   "metadata": {
    "collapsed": true
   },
   "outputs": [],
   "source": [
    "batch_size = 32"
   ]
  },
  {
   "cell_type": "code",
   "execution_count": 6,
   "metadata": {},
   "outputs": [
    {
     "name": "stderr",
     "output_type": "stream",
     "text": [
      "/home/adessowiki/anaconda3/lib/python3.6/site-packages/ipykernel/__main__.py:57: VisibleDeprecationWarning: using a non-integer number instead of an integer will result in an error in the future\n"
     ]
    }
   ],
   "source": [
    "data_transforms = {\n",
    "    'train': transforms.Compose([\n",
    "        transforms.ToTensor()\n",
    "\n",
    "    ]),\n",
    "    'valid': transforms.Compose([\n",
    "        transforms.ToTensor()\n",
    "    ]),\n",
    "}\n",
    "\n",
    "dsets = {\n",
    "    'train': FaceKeyPointsDataset(path2trainData, transforms=data_transforms['train'], is_train = True),\n",
    "    'valid': FaceKeyPointsDataset(path2trainData, transforms=data_transforms['valid'], is_valid=True),\n",
    "    'test':  FaceKeyPointsDataset(path2testData, transforms=data_transforms['valid'], is_test=True),\n",
    "}\n",
    "\n",
    "dset_loaders = {\n",
    "    'train': DataLoader(dsets['train'], batch_size=batch_size, shuffle=True),\n",
    "    'valid': DataLoader(dsets['valid'], batch_size=batch_size, shuffle=False),\n",
    "    'test':  DataLoader(dsets['test'],  batch_size=batch_size, shuffle=False),\n",
    "}"
   ]
  },
  {
   "cell_type": "code",
   "execution_count": 7,
   "metadata": {},
   "outputs": [
    {
     "name": "stdout",
     "output_type": "stream",
     "text": [
      "left_eye_center_x            float64\n",
      "left_eye_center_y            float64\n",
      "right_eye_center_x           float64\n",
      "right_eye_center_y           float64\n",
      "left_eye_inner_corner_x      float64\n",
      "left_eye_inner_corner_y      float64\n",
      "left_eye_outer_corner_x      float64\n",
      "left_eye_outer_corner_y      float64\n",
      "right_eye_inner_corner_x     float64\n",
      "right_eye_inner_corner_y     float64\n",
      "right_eye_outer_corner_x     float64\n",
      "right_eye_outer_corner_y     float64\n",
      "left_eyebrow_inner_end_x     float64\n",
      "left_eyebrow_inner_end_y     float64\n",
      "left_eyebrow_outer_end_x     float64\n",
      "left_eyebrow_outer_end_y     float64\n",
      "right_eyebrow_inner_end_x    float64\n",
      "right_eyebrow_inner_end_y    float64\n",
      "right_eyebrow_outer_end_x    float64\n",
      "right_eyebrow_outer_end_y    float64\n",
      "nose_tip_x                   float64\n",
      "nose_tip_y                   float64\n",
      "mouth_left_corner_x          float64\n",
      "mouth_left_corner_y          float64\n",
      "mouth_right_corner_x         float64\n",
      "mouth_right_corner_y         float64\n",
      "mouth_center_top_lip_x       float64\n",
      "mouth_center_top_lip_y       float64\n",
      "mouth_center_bottom_lip_x    float64\n",
      "mouth_center_bottom_lip_y    float64\n",
      "Image                         object\n",
      "dtype: object\n"
     ]
    }
   ],
   "source": [
    "dsets['train']._show_keys()"
   ]
  },
  {
   "cell_type": "code",
   "execution_count": 8,
   "metadata": {},
   "outputs": [
    {
     "data": {
      "image/png": "[encoded data removed]",
      "text/plain": [
       "<matplotlib.figure.Figure at 0x7f32352ae7b8>"
      ]
     },
     "metadata": {},
     "output_type": "display_data"
    }
   ],
   "source": [
    "plt.figure(figsize=(20,5))\n",
    "for i in range(0, 4):\n",
    "    plt.subplot(1,4,i+1)\n",
    "    try:\n",
    "        X = dsets['train'][i][0].numpy()\n",
    "        print(X.shape)\n",
    "        img = X.transpose((1, 2, 0))\n",
    "    except:\n",
    "        img = dsets['train'][i][0]\n",
    "    img = np.squeeze(img)\n",
    "    y =  dsets['train'][i][1]\n",
    "    cordinates = y* 48 + 48\n",
    "    plt.imshow(img, cmap = 'gray')\n",
    "    plt.scatter(cordinates[::2], cordinates[1::2], marker='o', c='b', s=10)\n",
    "    plt.axis('off')"
   ]
  },
  {
   "cell_type": "code",
   "execution_count": 9,
   "metadata": {
    "collapsed": true
   },
   "outputs": [],
   "source": [
    "nb_out = 30"
   ]
  },
  {
   "cell_type": "code",
   "execution_count": 10,
   "metadata": {
    "collapsed": true
   },
   "outputs": [],
   "source": [
    "class myconvNet(nn.Module):\n",
    "\n",
    "    def __init__(self, image_size=(1,96,96)):\n",
    "        super(myconvNet, self).__init__()        \n",
    "        self.conv1 = nn.Conv2d(1, 24, kernel_size=5)\n",
    "        self.conv2 = nn.Conv2d(24, 36, kernel_size=5)\n",
    "        self.conv3 = nn.Conv2d(36, 48, kernel_size=5)\n",
    "        self.conv4 = nn.Conv2d(48, 64, kernel_size=5)\n",
    "        \n",
    "        feature_size = self._get_conv_output(image_size)\n",
    "        \n",
    "        self.fc1 = nn.Linear(feature_size, 128)        \n",
    "        self.fc2 = nn.Linear(128, 64)\n",
    "        self.fc3 = nn.Linear(64, nb_out)\n",
    "\n",
    "        \n",
    "    def forward(self, x):\n",
    "        x = self._forward_features(x)\n",
    "        x = x.view(x.size(0), -1)\n",
    "        x = F.relu(self.fc1(x))\n",
    "        x = F.dropout(x, p=0.25, training=self.training)\n",
    "        x = F.relu(self.fc2(x))\n",
    "        x = F.dropout(x, p=0.5, training=self.training)\n",
    "        x = F.relu(self.fc3(x))\n",
    "        return x\n",
    "    \n",
    "    \n",
    "    def _forward_features(self, x):\n",
    "        x = F.relu(F.max_pool2d(self.conv1(x), 2))\n",
    "        x = F.relu(F.max_pool2d(self.conv2(x), 2))\n",
    "        x = F.relu(F.max_pool2d(self.conv3(x), 2))\n",
    "        x = F.relu(F.avg_pool2d(self.conv4(x), 2))     \n",
    "        return x\n",
    "    \n",
    "    \n",
    "    def _get_conv_output(self, shape):\n",
    "        bs = 1\n",
    "        input = Variable(torch.rand(bs, *shape))\n",
    "        output_feat = self._forward_features(input)\n",
    "        n_size = output_feat.data.view(bs, -1).size(1)\n",
    "        return n_size\n",
    "    "
   ]
  },
  {
   "cell_type": "code",
   "execution_count": 11,
   "metadata": {
    "collapsed": true
   },
   "outputs": [],
   "source": [
    "myconvNet = myconvNet()\n",
    "if use_gpu:\n",
    "    myconvNet = myconvNet.cuda()"
   ]
  },
  {
   "cell_type": "code",
   "execution_count": 12,
   "metadata": {},
   "outputs": [
    {
     "name": "stdout",
     "output_type": "stream",
     "text": [
      "myconvNet (\n",
      "  (conv1): Conv2d(1, 24, kernel_size=(5, 5), stride=(1, 1))\n",
      "  (conv2): Conv2d(24, 36, kernel_size=(5, 5), stride=(1, 1))\n",
      "  (conv3): Conv2d(36, 48, kernel_size=(5, 5), stride=(1, 1))\n",
      "  (conv4): Conv2d(48, 64, kernel_size=(5, 5), stride=(1, 1))\n",
      "  (fc1): Linear (256 -> 128)\n",
      "  (fc2): Linear (128 -> 64)\n",
      "  (fc3): Linear (64 -> 30)\n",
      ")\n"
     ]
    }
   ],
   "source": [
    "print(myconvNet)"
   ]
  },
  {
   "cell_type": "code",
   "execution_count": 13,
   "metadata": {
    "collapsed": true
   },
   "outputs": [],
   "source": [
    "def prediction(loader, model, loss_fn):\n",
    "    for i, data in enumerate(loader):     \n",
    "        inputs, labels = data\n",
    "        inputs, labels = Variable(inputs), Variable(labels) \n",
    "        # forward pass\n",
    "        outputs = model(inputs)\n",
    "        # loss\n",
    "        loss = loss_fn(outputs, labels)\n",
    "    return (loss.data[0])"
   ]
  },
  {
   "cell_type": "code",
   "execution_count": 14,
   "metadata": {
    "collapsed": true
   },
   "outputs": [],
   "source": [
    "def train(model, train_loader, test_loader ,num_epochs, loss_fn, optimizer, patience  ):\n",
    "    \n",
    "    history_loss = []\n",
    "    loss_train = []\n",
    "    loss_test = []\n",
    "    best_test_acc =  np.inf\n",
    "    patience_count= 0\n",
    "    for epoch in range(num_epochs):\n",
    "        for i, data in enumerate(train_loader):\n",
    "            inputs, labels = data\n",
    "            inputs, labels = Variable(inputs), Variable(labels)\n",
    "            predict = model(inputs)\n",
    "            loss = loss_fn(predict, labels)\n",
    "            optimizer.zero_grad()\n",
    "            loss.backward()\n",
    "            optimizer.step()\n",
    "            \n",
    "\n",
    "        loss_train.append(prediction(train_loader, model,loss_fn) )\n",
    "        loss_test.append( prediction(test_loader, model,loss_fn) )\n",
    "        history_loss.append(loss.data[0])\n",
    "        \n",
    "        print('Epoch:', epoch, ' Loss Train: ', loss_train[-1],  ' Lost Test: ', loss_test[-1])\n",
    "\n",
    "        #Early stopping\n",
    "        if(best_test_acc < loss_test[-1]):\n",
    "            patience_count = 0\n",
    "            best_test_acc = loss_test[-1]\n",
    "            best_model = copy.deepcopy(model)\n",
    "\n",
    "        if(patience_count > patience):\n",
    "            break;\n",
    "\n",
    "        patience_count += 1\n",
    "        \n",
    "        \n",
    "    print('Done!')\n",
    "    return history_loss, loss_train, loss_train, model "
   ]
  },
  {
   "cell_type": "code",
   "execution_count": 15,
   "metadata": {
    "collapsed": true
   },
   "outputs": [],
   "source": [
    "loss_fn = torch.nn.MSELoss()\n",
    "#optimizer = torch.optim.Adam(myconvNet.parameters()) \n",
    "optimizer =  optim.RMSprop(myconvNet.parameters(), lr=1e-3)\n",
    "#lr = 0.1\n",
    "#optimizer = torch.optim.SGD(net.parameters(), lr=lr, momentum=0.9)\n",
    "num_epochs = 5\n",
    "patience = 2"
   ]
  },
  {
   "cell_type": "code",
   "execution_count": 16,
   "metadata": {
    "collapsed": true
   },
   "outputs": [],
   "source": [
    "params = {'model' : myconvNet, \n",
    "        'train_loader':dset_loaders['train'],\n",
    "         'test_loader':dset_loaders['valid'],\n",
    "         'num_epochs': num_epochs,\n",
    "         'loss_fn': loss_fn,\n",
    "        'optimizer': optimizer, \n",
    "         'patience': patience \n",
    "         }"
   ]
  },
  {
   "cell_type": "code",
   "execution_count": 17,
   "metadata": {},
   "outputs": [
    {
     "name": "stdout",
     "output_type": "stream",
     "text": [
      "Epoch: 0  Loss Train:  0.10004536062479019  Lost Test:  0.10307612270116806\n",
      "Epoch: 1  Loss Train:  0.07640150189399719  Lost Test:  0.07605864107608795\n",
      "Epoch: 2  Loss Train:  0.07596509903669357  Lost Test:  0.07522448152303696\n",
      "Epoch: 3  Loss Train:  0.07321076840162277  Lost Test:  0.07421441376209259\n",
      "Done!\n"
     ]
    }
   ],
   "source": [
    "history_loss, loss_train, loss_train, model   = train(**params)"
   ]
  },
  {
   "cell_type": "code",
   "execution_count": 19,
   "metadata": {},
   "outputs": [],
   "source": [
    "def predict(model, dset_loaders, use_gpu = False):\n",
    "\n",
    "    predictions = []\n",
    "    if use_gpu:\n",
    "        use_gpu = torch.cuda.is_available()\n",
    "\n",
    "    model.train(False)  # Set model to evaluate mode\n",
    "    ii_n = len(dset_loaders)\n",
    "    for ii, (image, labels) in enumerate(dset_loaders):\n",
    "        if use_gpu:\n",
    "            image = Variable(image.cuda())\n",
    "        else:\n",
    "            image = Variable(image)\n",
    "        outputs = model.forward(image)\n",
    "        predictions.append(outputs.data.cpu())\n",
    "        print('\\rpredict: {}/{}'.format(ii, ii_n - 1), end='')\n",
    "    print(' ok')\n",
    "    if len(predictions) > 0:\n",
    "        return torch.cat(predictions, 0)"
   ]
  },
  {
   "cell_type": "code",
   "execution_count": 20,
   "metadata": {},
   "outputs": [
    {
     "name": "stdout",
     "output_type": "stream",
     "text": [
      "predict: 55/55 ok\n"
     ]
    }
   ],
   "source": [
    "preds = predict(myconvNet, dset_loaders['test'])"
   ]
  },
  {
   "cell_type": "code",
   "execution_count": 21,
   "metadata": {},
   "outputs": [
    {
     "data": {
      "text/plain": [
       "torch.Size([1783, 30])"
      ]
     },
     "execution_count": 21,
     "metadata": {},
     "output_type": "execute_result"
    }
   ],
   "source": [
    "preds.shape"
   ]
  },
  {
   "cell_type": "code",
   "execution_count": null,
   "metadata": {
    "collapsed": true
   },
   "outputs": [],
   "source": []
  }
 ],
 "metadata": {
  "kernelspec": {
   "display_name": "Python 3",
   "language": "python",
   "name": "python3"
  },
  "language_info": {
   "codemirror_mode": {
    "name": "ipython",
    "version": 3
   },
   "file_extension": ".py",
   "mimetype": "text/x-python",
   "name": "python",
   "nbconvert_exporter": "python",
   "pygments_lexer": "ipython3",
   "version": "3.6.0"
  }
 },
 "nbformat": 4,
 "nbformat_minor": 2
}
